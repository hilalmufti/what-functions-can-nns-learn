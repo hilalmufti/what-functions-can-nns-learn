{
 "cells": [
  {
   "cell_type": "code",
   "execution_count": 91,
   "metadata": {},
   "outputs": [
    {
     "name": "stdout",
     "output_type": "stream",
     "text": [
      "The autoreload extension is already loaded. To reload it, use:\n",
      "  %reload_ext autoreload\n"
     ]
    }
   ],
   "source": [
    "%load_ext autoreload\n",
    "%autoreload 2\n",
    "\n",
    "from toolz import take\n",
    "import torch as th\n",
    "from torch.utils.data import DataLoader\n",
    "from torch import tensor, optim, nn\n",
    "from torch.nn import functional as F\n",
    "\n",
    "from wxml.model import MLP\n",
    "from wxml.hamming import make_data_hamming, wt\n",
    "from wxml.data import make_splits\n",
    "from wxml.train import train"
   ]
  },
  {
   "cell_type": "code",
   "execution_count": 97,
   "metadata": {},
   "outputs": [
    {
     "name": "stdout",
     "output_type": "stream",
     "text": [
      "(tensor([0., 0., 0., 1., 1., 1., 0., 0.], requires_grad=True), tensor([0., 0., 0., 0., 0., 0., 1., 1.], requires_grad=True))\n",
      "(tensor([0., 0., 0., 0., 0., 1., 0., 0.], requires_grad=True), tensor([0., 0., 0., 0., 0., 0., 0., 1.], requires_grad=True))\n",
      "(tensor([0., 0., 1., 1., 0., 0., 1., 0.], requires_grad=True), tensor([0., 0., 0., 0., 0., 0., 1., 1.], requires_grad=True))\n",
      "(tensor([0., 0., 0., 1., 0., 0., 1., 1.], requires_grad=True), tensor([0., 0., 0., 0., 0., 0., 1., 1.], requires_grad=True))\n",
      "(tensor([0., 0., 0., 0., 1., 0., 1., 1.], requires_grad=True), tensor([0., 0., 0., 0., 0., 0., 1., 1.], requires_grad=True))\n"
     ]
    }
   ],
   "source": [
    "xs, ys = make_data_hamming(100000)\n",
    "\n",
    "[print(xy) for xy in take(5, zip(xs, ys))]\n",
    "\n",
    "ds_train, ds_val, ds_test = make_splits(xs, ys)\n",
    "train_loader, val_loader, test_loader = [DataLoader(d, batch_size=32, shuffle=False) for d in [ds_train, ds_val, ds_test]]"
   ]
  },
  {
   "cell_type": "code",
   "execution_count": 107,
   "metadata": {},
   "outputs": [],
   "source": [
    "num_layers = 2\n",
    "input_dim = 8\n",
    "hidden_dim = 32\n",
    "output_dim = 8\n",
    "\n",
    "lr = 1e-3\n",
    "\n",
    "model = nn.Sequential(MLP(num_layers, input_dim, hidden_dim, output_dim), nn.Sigmoid())\n",
    "opt = optim.SGD(model.parameters(), lr=lr)\n",
    "loss_fn = F.binary_cross_entropy\n",
    "\n",
    "# number of SAMPLES classified correctly, NOT the number of bits\n",
    "def bitvector_classification_accuracy(y_pred, y):\n",
    "    return (y_pred.round() == y).float().mean()"
   ]
  },
  {
   "cell_type": "code",
   "execution_count": 108,
   "metadata": {},
   "outputs": [
    {
     "name": "stderr",
     "output_type": "stream",
     "text": [
      "loss: 0.134, acy: 0.000: 100%|██████████| 100/100 [03:10<00:00,  1.90s/it]\n"
     ]
    }
   ],
   "source": [
    "epochs = 100\n",
    "\n",
    "model = th.compile(model)\n",
    "model.train()\n",
    "train(model, loss_fn, opt, train_loader, epochs=epochs, acy_fn=bitvector_classification_accuracy)"
   ]
  },
  {
   "cell_type": "code",
   "execution_count": 126,
   "metadata": {},
   "outputs": [
    {
     "data": {
      "text/plain": [
       "tensor([[    0.0001,     0.0000,     0.0000,     0.0001,     0.0000,     0.0446,\n",
       "             0.7048,     0.4984],\n",
       "        [    0.0015,     0.0018,     0.0015,     0.0016,     0.0015,     0.0002,\n",
       "             0.6483,     0.5658],\n",
       "        [    0.0001,     0.0001,     0.0001,     0.0001,     0.0001,     0.0457,\n",
       "             0.6877,     0.5257],\n",
       "        [    0.0001,     0.0001,     0.0001,     0.0001,     0.0001,     0.0544,\n",
       "             0.6772,     0.4926],\n",
       "        [    0.0000,     0.0000,     0.0000,     0.0000,     0.0000,     0.0492,\n",
       "             0.6754,     0.4870],\n",
       "        [    0.0013,     0.0018,     0.0015,     0.0015,     0.0015,     0.0001,\n",
       "             0.6857,     0.5657],\n",
       "        [    0.0001,     0.0001,     0.0001,     0.0001,     0.0001,     0.0544,\n",
       "             0.6772,     0.4926],\n",
       "        [    0.0015,     0.0018,     0.0015,     0.0016,     0.0015,     0.0002,\n",
       "             0.6483,     0.5658],\n",
       "        [    0.0001,     0.0001,     0.0001,     0.0001,     0.0001,     0.0698,\n",
       "             0.6807,     0.4982],\n",
       "        [    0.0001,     0.0000,     0.0001,     0.0000,     0.0000,     0.0381,\n",
       "             0.6899,     0.4874],\n",
       "        [    0.0000,     0.0000,     0.0000,     0.0000,     0.0000,     0.9500,\n",
       "             0.3225,     0.4690],\n",
       "        [    0.0009,     0.0008,     0.0008,     0.0009,     0.0008,     0.0022,\n",
       "             0.7648,     0.5200],\n",
       "        [    0.0000,     0.0000,     0.0000,     0.0000,     0.0000,     0.9993,\n",
       "             0.1464,     0.5218],\n",
       "        [    0.0000,     0.0000,     0.0000,     0.0000,     0.0000,     0.9317,\n",
       "             0.3134,     0.4599],\n",
       "        [    0.0002,     0.0001,     0.0001,     0.0001,     0.0001,     0.0346,\n",
       "             0.6997,     0.5244],\n",
       "        [    0.0000,     0.0000,     0.0000,     0.0000,     0.0000,     0.9991,\n",
       "             0.1480,     0.5241],\n",
       "        [    0.0001,     0.0000,     0.0000,     0.0001,     0.0000,     0.0446,\n",
       "             0.7048,     0.4984],\n",
       "        [    0.0002,     0.0002,     0.0002,     0.0002,     0.0002,     0.0003,\n",
       "             0.8045,     0.5072],\n",
       "        [    0.0000,     0.0000,     0.0000,     0.0000,     0.0000,     0.9991,\n",
       "             0.1480,     0.5241],\n",
       "        [    0.0000,     0.0000,     0.0000,     0.0000,     0.0000,     0.9148,\n",
       "             0.3584,     0.4916],\n",
       "        [    0.0000,     0.0000,     0.0001,     0.0000,     0.0000,     0.9567,\n",
       "             0.3188,     0.4891],\n",
       "        [    0.0015,     0.0018,     0.0015,     0.0016,     0.0015,     0.0002,\n",
       "             0.6483,     0.5658],\n",
       "        [    0.0001,     0.0001,     0.0001,     0.0001,     0.0001,     0.0447,\n",
       "             0.6950,     0.5154],\n",
       "        [    0.0021,     0.0026,     0.0024,     0.0027,     0.0025,     0.0000,\n",
       "             0.4921,     0.6121],\n",
       "        [    0.0001,     0.0000,     0.0001,     0.0001,     0.0000,     0.0422,\n",
       "             0.7002,     0.5006],\n",
       "        [    0.0000,     0.0000,     0.0000,     0.0000,     0.0000,     0.9993,\n",
       "             0.1380,     0.5310],\n",
       "        [    0.0001,     0.0001,     0.0001,     0.0001,     0.0001,     0.0536,\n",
       "             0.6887,     0.5165],\n",
       "        [    0.0001,     0.0001,     0.0001,     0.0001,     0.0001,     0.0432,\n",
       "             0.6731,     0.5163],\n",
       "        [    0.0000,     0.0000,     0.0000,     0.0000,     0.0000,     0.9506,\n",
       "             0.3313,     0.4652],\n",
       "        [    0.0004,     0.0004,     0.0004,     0.0004,     0.0004,     0.0007,\n",
       "             0.7805,     0.5177],\n",
       "        [    0.0008,     0.0009,     0.0008,     0.0009,     0.0008,     0.0015,\n",
       "             0.7910,     0.5093],\n",
       "        [    0.0002,     0.0002,     0.0002,     0.0002,     0.0002,     0.0003,\n",
       "             0.8045,     0.5072]], grad_fn=<CompiledFunctionBackward>)"
      ]
     },
     "execution_count": 126,
     "metadata": {},
     "output_type": "execute_result"
    }
   ],
   "source": [
    "th.set_printoptions(sci_mode=False)\n",
    "model(x)"
   ]
  }
 ],
 "metadata": {
  "kernelspec": {
   "display_name": ".venv",
   "language": "python",
   "name": "python3"
  },
  "language_info": {
   "codemirror_mode": {
    "name": "ipython",
    "version": 3
   },
   "file_extension": ".py",
   "mimetype": "text/x-python",
   "name": "python",
   "nbconvert_exporter": "python",
   "pygments_lexer": "ipython3",
   "version": "3.12.5"
  }
 },
 "nbformat": 4,
 "nbformat_minor": 2
}
