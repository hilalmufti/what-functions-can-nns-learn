{
 "cells": [
  {
   "cell_type": "code",
   "execution_count": 14,
   "metadata": {},
   "outputs": [
    {
     "name": "stdout",
     "output_type": "stream",
     "text": [
      "The autoreload extension is already loaded. To reload it, use:\n",
      "  %reload_ext autoreload\n"
     ]
    }
   ],
   "source": [
    "%load_ext autoreload\n",
    "%autoreload 2\n",
    "\n",
    "from toolz import take\n",
    "import torch as th\n",
    "from torch.utils.data import DataLoader\n",
    "from torch import tensor, optim, nn\n",
    "from torch.nn import functional as F\n",
    "import matplotlib.pyplot as plt\n",
    "%matplotlib inline\n",
    "\n",
    "from wxml.model import MLP\n",
    "from wxml.hamming import make_data_hamming, wt, max_rep, digits_needed, bin_to_dec\n",
    "from wxml.data import make_splits\n",
    "from wxml.train import train, count_matches"
   ]
  },
  {
   "cell_type": "code",
   "execution_count": 11,
   "metadata": {},
   "outputs": [
    {
     "data": {
      "text/plain": [
       "6"
      ]
     },
     "execution_count": 11,
     "metadata": {},
     "output_type": "execute_result"
    }
   ],
   "source": [
    "digits_needed(63, 2)"
   ]
  },
  {
   "cell_type": "code",
   "execution_count": 7,
   "metadata": {},
   "outputs": [
    {
     "data": {
      "text/plain": [
       "255"
      ]
     },
     "execution_count": 7,
     "metadata": {},
     "output_type": "execute_result"
    }
   ],
   "source": [
    "max_rep(2, 8)"
   ]
  },
  {
   "cell_type": "code",
   "execution_count": 2,
   "metadata": {},
   "outputs": [
    {
     "name": "stdout",
     "output_type": "stream",
     "text": [
      "(tensor([0., 0., 0., 1., 0., 1., 0., 0.], requires_grad=True), tensor([0., 0., 0., 0., 0., 0., 1., 0.], requires_grad=True))\n",
      "(tensor([0., 0., 0., 1., 1., 0., 1., 0.], requires_grad=True), tensor([0., 0., 0., 0., 0., 0., 1., 1.], requires_grad=True))\n",
      "(tensor([0., 0., 1., 0., 1., 1., 1., 1.], requires_grad=True), tensor([0., 0., 0., 0., 0., 1., 0., 1.], requires_grad=True))\n",
      "(tensor([0., 0., 1., 0., 0., 1., 0., 1.], requires_grad=True), tensor([0., 0., 0., 0., 0., 0., 1., 1.], requires_grad=True))\n",
      "(tensor([0., 0., 0., 0., 0., 0., 0., 0.], requires_grad=True), tensor([0., 0., 0., 0., 0., 0., 0., 0.], requires_grad=True))\n"
     ]
    }
   ],
   "source": [
    "batch_size = 32\n",
    "n_batches = 1000\n",
    "\n",
    "xs, ys = make_data_hamming(batch_size * n_batches)\n",
    "\n",
    "[print(xy) for xy in take(5, zip(xs, ys))]\n",
    "\n",
    "ds_train, ds_val, ds_test = make_splits(xs, ys)\n",
    "train_loader, val_loader, test_loader = [DataLoader(d, batch_size=batch_size, shuffle=False) for d in [ds_train, ds_val, ds_test]]"
   ]
  },
  {
   "cell_type": "code",
   "execution_count": 7,
   "metadata": {},
   "outputs": [
    {
     "data": {
      "application/vnd.jupyter.widget-view+json": {
       "model_id": "33c9ff14450a4c7e89e430d1b4f7778d",
       "version_major": 2,
       "version_minor": 0
      },
      "text/plain": [
       "  0%|          | 0/100 [00:00<?, ?it/s]"
      ]
     },
     "metadata": {},
     "output_type": "display_data"
    },
    {
     "name": "stdout",
     "output_type": "stream",
     "text": [
      "epoch=0 | train_loss=0.7021 | val_loss=0.6831 | train_acy=0.4485 | val_acy=0.5989\n",
      "epoch=1 | train_loss=0.6650 | val_loss=0.6461 | train_acy=0.7302 | val_acy=0.8030\n",
      "epoch=2 | train_loss=0.6273 | val_loss=0.6070 | train_acy=0.8025 | val_acy=0.8049\n",
      "epoch=3 | train_loss=0.5869 | val_loss=0.5649 | train_acy=0.8084 | val_acy=0.8180\n",
      "epoch=4 | train_loss=0.5433 | val_loss=0.5195 | train_acy=0.8253 | val_acy=0.8331\n",
      "epoch=5 | train_loss=0.4972 | val_loss=0.4728 | train_acy=0.8390 | val_acy=0.8429\n",
      "epoch=6 | train_loss=0.4515 | val_loss=0.4284 | train_acy=0.8398 | val_acy=0.8419\n",
      "epoch=7 | train_loss=0.4097 | val_loss=0.3896 | train_acy=0.8384 | val_acy=0.8419\n",
      "epoch=8 | train_loss=0.3747 | val_loss=0.3584 | train_acy=0.8384 | val_acy=0.8419\n",
      "epoch=9 | train_loss=0.3473 | val_loss=0.3347 | train_acy=0.8384 | val_acy=0.8419\n",
      "epoch=10 | train_loss=0.3269 | val_loss=0.3173 | train_acy=0.8384 | val_acy=0.8419\n",
      "epoch=11 | train_loss=0.3119 | val_loss=0.3046 | train_acy=0.8384 | val_acy=0.8419\n",
      "epoch=12 | train_loss=0.3009 | val_loss=0.2953 | train_acy=0.8375 | val_acy=0.8402\n",
      "epoch=13 | train_loss=0.2928 | val_loss=0.2883 | train_acy=0.8377 | val_acy=0.8440\n",
      "epoch=14 | train_loss=0.2866 | val_loss=0.2830 | train_acy=0.8398 | val_acy=0.8451\n",
      "epoch=15 | train_loss=0.2818 | val_loss=0.2789 | train_acy=0.8406 | val_acy=0.8448\n",
      "epoch=16 | train_loss=0.2781 | val_loss=0.2756 | train_acy=0.8403 | val_acy=0.8452\n",
      "epoch=17 | train_loss=0.2751 | val_loss=0.2729 | train_acy=0.8395 | val_acy=0.8431\n",
      "epoch=18 | train_loss=0.2726 | val_loss=0.2707 | train_acy=0.8392 | val_acy=0.8431\n",
      "epoch=19 | train_loss=0.2706 | val_loss=0.2689 | train_acy=0.8389 | val_acy=0.8431\n",
      "epoch=20 | train_loss=0.2689 | val_loss=0.2674 | train_acy=0.8388 | val_acy=0.8431\n",
      "epoch=21 | train_loss=0.2675 | val_loss=0.2661 | train_acy=0.8389 | val_acy=0.8431\n",
      "epoch=22 | train_loss=0.2662 | val_loss=0.2650 | train_acy=0.8390 | val_acy=0.8431\n",
      "epoch=23 | train_loss=0.2651 | val_loss=0.2640 | train_acy=0.8391 | val_acy=0.8431\n",
      "epoch=24 | train_loss=0.2642 | val_loss=0.2631 | train_acy=0.8392 | val_acy=0.8431\n",
      "epoch=25 | train_loss=0.2633 | val_loss=0.2623 | train_acy=0.8393 | val_acy=0.8431\n",
      "epoch=26 | train_loss=0.2626 | val_loss=0.2616 | train_acy=0.8393 | val_acy=0.8431\n",
      "epoch=27 | train_loss=0.2619 | val_loss=0.2610 | train_acy=0.8394 | val_acy=0.8431\n",
      "epoch=28 | train_loss=0.2613 | val_loss=0.2604 | train_acy=0.8394 | val_acy=0.8431\n",
      "epoch=29 | train_loss=0.2607 | val_loss=0.2599 | train_acy=0.8394 | val_acy=0.8431\n",
      "epoch=30 | train_loss=0.2602 | val_loss=0.2594 | train_acy=0.8395 | val_acy=0.8431\n",
      "epoch=31 | train_loss=0.2597 | val_loss=0.2589 | train_acy=0.8395 | val_acy=0.8431\n",
      "epoch=32 | train_loss=0.2592 | val_loss=0.2585 | train_acy=0.8396 | val_acy=0.8431\n",
      "epoch=33 | train_loss=0.2588 | val_loss=0.2581 | train_acy=0.8397 | val_acy=0.8431\n",
      "epoch=34 | train_loss=0.2584 | val_loss=0.2577 | train_acy=0.8397 | val_acy=0.8431\n",
      "epoch=35 | train_loss=0.2580 | val_loss=0.2574 | train_acy=0.8397 | val_acy=0.8431\n",
      "epoch=36 | train_loss=0.2577 | val_loss=0.2571 | train_acy=0.8397 | val_acy=0.8431\n",
      "epoch=37 | train_loss=0.2573 | val_loss=0.2567 | train_acy=0.8397 | val_acy=0.8431\n",
      "epoch=38 | train_loss=0.2570 | val_loss=0.2564 | train_acy=0.8397 | val_acy=0.8431\n",
      "epoch=39 | train_loss=0.2567 | val_loss=0.2561 | train_acy=0.8398 | val_acy=0.8431\n",
      "epoch=40 | train_loss=0.2564 | val_loss=0.2559 | train_acy=0.8399 | val_acy=0.8431\n",
      "epoch=41 | train_loss=0.2561 | val_loss=0.2556 | train_acy=0.8400 | val_acy=0.8431\n",
      "epoch=42 | train_loss=0.2558 | val_loss=0.2553 | train_acy=0.8400 | val_acy=0.8431\n",
      "epoch=43 | train_loss=0.2556 | val_loss=0.2551 | train_acy=0.8401 | val_acy=0.8431\n",
      "epoch=44 | train_loss=0.2553 | val_loss=0.2548 | train_acy=0.8401 | val_acy=0.8431\n",
      "epoch=45 | train_loss=0.2551 | val_loss=0.2546 | train_acy=0.8402 | val_acy=0.8431\n",
      "epoch=46 | train_loss=0.2548 | val_loss=0.2543 | train_acy=0.8402 | val_acy=0.8447\n",
      "epoch=47 | train_loss=0.2546 | val_loss=0.2541 | train_acy=0.8401 | val_acy=0.8447\n",
      "epoch=48 | train_loss=0.2543 | val_loss=0.2539 | train_acy=0.8402 | val_acy=0.8447\n",
      "epoch=49 | train_loss=0.2541 | val_loss=0.2536 | train_acy=0.8403 | val_acy=0.8425\n",
      "epoch=50 | train_loss=0.2538 | val_loss=0.2534 | train_acy=0.8402 | val_acy=0.8425\n",
      "epoch=51 | train_loss=0.2536 | val_loss=0.2532 | train_acy=0.8402 | val_acy=0.8425\n",
      "epoch=52 | train_loss=0.2534 | val_loss=0.2530 | train_acy=0.8403 | val_acy=0.8425\n",
      "epoch=53 | train_loss=0.2531 | val_loss=0.2527 | train_acy=0.8403 | val_acy=0.8425\n",
      "epoch=54 | train_loss=0.2529 | val_loss=0.2525 | train_acy=0.8403 | val_acy=0.8443\n",
      "epoch=55 | train_loss=0.2527 | val_loss=0.2523 | train_acy=0.8403 | val_acy=0.8443\n",
      "epoch=56 | train_loss=0.2525 | val_loss=0.2521 | train_acy=0.8402 | val_acy=0.8443\n",
      "epoch=57 | train_loss=0.2522 | val_loss=0.2519 | train_acy=0.8401 | val_acy=0.8443\n",
      "epoch=58 | train_loss=0.2520 | val_loss=0.2517 | train_acy=0.8401 | val_acy=0.8443\n",
      "epoch=59 | train_loss=0.2518 | val_loss=0.2514 | train_acy=0.8400 | val_acy=0.8443\n",
      "epoch=60 | train_loss=0.2516 | val_loss=0.2512 | train_acy=0.8399 | val_acy=0.8418\n",
      "epoch=61 | train_loss=0.2513 | val_loss=0.2510 | train_acy=0.8398 | val_acy=0.8405\n",
      "epoch=62 | train_loss=0.2511 | val_loss=0.2508 | train_acy=0.8398 | val_acy=0.8427\n",
      "epoch=63 | train_loss=0.2509 | val_loss=0.2506 | train_acy=0.8398 | val_acy=0.8427\n",
      "epoch=64 | train_loss=0.2507 | val_loss=0.2504 | train_acy=0.8400 | val_acy=0.8401\n",
      "epoch=65 | train_loss=0.2504 | val_loss=0.2502 | train_acy=0.8401 | val_acy=0.8401\n",
      "epoch=66 | train_loss=0.2502 | val_loss=0.2499 | train_acy=0.8403 | val_acy=0.8401\n",
      "epoch=67 | train_loss=0.2500 | val_loss=0.2497 | train_acy=0.8406 | val_acy=0.8401\n",
      "epoch=68 | train_loss=0.2498 | val_loss=0.2495 | train_acy=0.8407 | val_acy=0.8415\n",
      "epoch=69 | train_loss=0.2495 | val_loss=0.2493 | train_acy=0.8409 | val_acy=0.8415\n",
      "epoch=70 | train_loss=0.2493 | val_loss=0.2490 | train_acy=0.8412 | val_acy=0.8415\n",
      "epoch=71 | train_loss=0.2491 | val_loss=0.2488 | train_acy=0.8415 | val_acy=0.8415\n",
      "epoch=72 | train_loss=0.2488 | val_loss=0.2486 | train_acy=0.8417 | val_acy=0.8415\n",
      "epoch=73 | train_loss=0.2486 | val_loss=0.2484 | train_acy=0.8421 | val_acy=0.8415\n",
      "epoch=74 | train_loss=0.2483 | val_loss=0.2481 | train_acy=0.8423 | val_acy=0.8433\n",
      "epoch=75 | train_loss=0.2481 | val_loss=0.2479 | train_acy=0.8426 | val_acy=0.8433\n",
      "epoch=76 | train_loss=0.2478 | val_loss=0.2476 | train_acy=0.8436 | val_acy=0.8433\n",
      "epoch=77 | train_loss=0.2476 | val_loss=0.2474 | train_acy=0.8454 | val_acy=0.8464\n",
      "epoch=78 | train_loss=0.2473 | val_loss=0.2472 | train_acy=0.8467 | val_acy=0.8481\n",
      "epoch=79 | train_loss=0.2471 | val_loss=0.2469 | train_acy=0.8480 | val_acy=0.8481\n",
      "epoch=80 | train_loss=0.2468 | val_loss=0.2467 | train_acy=0.8489 | val_acy=0.8502\n",
      "epoch=81 | train_loss=0.2465 | val_loss=0.2464 | train_acy=0.8497 | val_acy=0.8502\n",
      "epoch=82 | train_loss=0.2463 | val_loss=0.2461 | train_acy=0.8505 | val_acy=0.8502\n",
      "epoch=83 | train_loss=0.2460 | val_loss=0.2459 | train_acy=0.8513 | val_acy=0.8536\n",
      "epoch=84 | train_loss=0.2457 | val_loss=0.2456 | train_acy=0.8518 | val_acy=0.8536\n",
      "epoch=85 | train_loss=0.2455 | val_loss=0.2453 | train_acy=0.8520 | val_acy=0.8536\n",
      "epoch=86 | train_loss=0.2452 | val_loss=0.2451 | train_acy=0.8522 | val_acy=0.8536\n",
      "epoch=87 | train_loss=0.2449 | val_loss=0.2448 | train_acy=0.8525 | val_acy=0.8502\n",
      "epoch=88 | train_loss=0.2446 | val_loss=0.2445 | train_acy=0.8525 | val_acy=0.8502\n",
      "epoch=89 | train_loss=0.2443 | val_loss=0.2442 | train_acy=0.8529 | val_acy=0.8502\n",
      "epoch=90 | train_loss=0.2440 | val_loss=0.2439 | train_acy=0.8532 | val_acy=0.8502\n",
      "epoch=91 | train_loss=0.2437 | val_loss=0.2436 | train_acy=0.8539 | val_acy=0.8536\n",
      "epoch=92 | train_loss=0.2434 | val_loss=0.2433 | train_acy=0.8542 | val_acy=0.8518\n",
      "epoch=93 | train_loss=0.2431 | val_loss=0.2430 | train_acy=0.8547 | val_acy=0.8518\n",
      "epoch=94 | train_loss=0.2428 | val_loss=0.2427 | train_acy=0.8560 | val_acy=0.8518\n",
      "epoch=95 | train_loss=0.2424 | val_loss=0.2424 | train_acy=0.8575 | val_acy=0.8577\n",
      "epoch=96 | train_loss=0.2421 | val_loss=0.2421 | train_acy=0.8585 | val_acy=0.8577\n",
      "epoch=97 | train_loss=0.2418 | val_loss=0.2418 | train_acy=0.8593 | val_acy=0.8577\n",
      "epoch=98 | train_loss=0.2414 | val_loss=0.2414 | train_acy=0.8606 | val_acy=0.8577\n",
      "epoch=99 | train_loss=0.2411 | val_loss=0.2411 | train_acy=0.8624 | val_acy=0.8577\n"
     ]
    }
   ],
   "source": [
    "num_layers = 2\n",
    "input_dim = 8\n",
    "hidden_dim = 32\n",
    "output_dim = 8\n",
    "\n",
    "lr = 1e-3\n",
    "\n",
    "epochs = 100\n",
    "\n",
    "model = nn.Sequential(MLP(num_layers, input_dim, hidden_dim, output_dim), nn.Sigmoid())\n",
    "# model = th.compile(model)\n",
    "opt = optim.SGD(model.parameters(), lr=lr)\n",
    "loss_fn = F.binary_cross_entropy\n",
    "\n",
    "results = train(model, loss_fn, opt, train_loader, val_loader, epochs=epochs, device='mps', dtype=th.float32, print_every=n_batches // 10)\n"
   ]
  },
  {
   "cell_type": "code",
   "execution_count": null,
   "metadata": {},
   "outputs": [
    {
     "data": {
      "text/plain": [
       "3"
      ]
     },
     "execution_count": 17,
     "metadata": {},
     "output_type": "execute_result"
    }
   ],
   "source": [
    "bin_to_dec([0, 1, 1])"
   ]
  },
  {
   "cell_type": "code",
   "execution_count": 13,
   "metadata": {},
   "outputs": [
    {
     "ename": "TypeError",
     "evalue": "int() can't convert non-string with explicit base",
     "output_type": "error",
     "traceback": [
      "\u001b[0;31m---------------------------------------------------------------------------\u001b[0m",
      "\u001b[0;31mTypeError\u001b[0m                                 Traceback (most recent call last)",
      "Cell \u001b[0;32mIn[13], line 1\u001b[0m\n\u001b[0;32m----> 1\u001b[0m \u001b[38;5;28;43mint\u001b[39;49m\u001b[43m(\u001b[49m\u001b[43m[\u001b[49m\u001b[38;5;241;43m1\u001b[39;49m\u001b[43m,\u001b[49m\u001b[43m \u001b[49m\u001b[38;5;241;43m0\u001b[39;49m\u001b[43m,\u001b[49m\u001b[43m \u001b[49m\u001b[38;5;241;43m1\u001b[39;49m\u001b[43m,\u001b[49m\u001b[43m \u001b[49m\u001b[38;5;241;43m0\u001b[39;49m\u001b[43m,\u001b[49m\u001b[43m \u001b[49m\u001b[38;5;241;43m1\u001b[39;49m\u001b[43m,\u001b[49m\u001b[43m \u001b[49m\u001b[38;5;241;43m0\u001b[39;49m\u001b[43m,\u001b[49m\u001b[43m \u001b[49m\u001b[38;5;241;43m1\u001b[39;49m\u001b[43m,\u001b[49m\u001b[43m \u001b[49m\u001b[38;5;241;43m0\u001b[39;49m\u001b[43m]\u001b[49m\u001b[43m,\u001b[49m\u001b[43m \u001b[49m\u001b[38;5;241;43m2\u001b[39;49m\u001b[43m)\u001b[49m\n",
      "\u001b[0;31mTypeError\u001b[0m: int() can't convert non-string with explicit base"
     ]
    }
   ],
   "source": [
    "int([1, 0, 1, 0, 1, 0, 1, 0], 2)"
   ]
  },
  {
   "cell_type": "code",
   "execution_count": 1,
   "metadata": {},
   "outputs": [
    {
     "ename": "NameError",
     "evalue": "name 'plt' is not defined",
     "output_type": "error",
     "traceback": [
      "\u001b[0;31m---------------------------------------------------------------------------\u001b[0m",
      "\u001b[0;31mNameError\u001b[0m                                 Traceback (most recent call last)",
      "Cell \u001b[0;32mIn[1], line 1\u001b[0m\n\u001b[0;32m----> 1\u001b[0m \u001b[43mplt\u001b[49m\u001b[38;5;241m.\u001b[39mplot(results[\u001b[38;5;124m'\u001b[39m\u001b[38;5;124mtrain_losses\u001b[39m\u001b[38;5;124m'\u001b[39m], label\u001b[38;5;241m=\u001b[39m\u001b[38;5;124m'\u001b[39m\u001b[38;5;124mtrain loss\u001b[39m\u001b[38;5;124m'\u001b[39m)\n\u001b[1;32m      2\u001b[0m plt\u001b[38;5;241m.\u001b[39mplot(results[\u001b[38;5;124m'\u001b[39m\u001b[38;5;124mval_losses\u001b[39m\u001b[38;5;124m'\u001b[39m], label\u001b[38;5;241m=\u001b[39m\u001b[38;5;124m'\u001b[39m\u001b[38;5;124mval loss\u001b[39m\u001b[38;5;124m'\u001b[39m)\n\u001b[1;32m      3\u001b[0m plt\u001b[38;5;241m.\u001b[39mtitle(\u001b[38;5;124m\"\u001b[39m\u001b[38;5;124mBCE Loss of 2-layer MLP on Hamming weight data using SGD\u001b[39m\u001b[38;5;124m\"\u001b[39m)\n",
      "\u001b[0;31mNameError\u001b[0m: name 'plt' is not defined"
     ]
    }
   ],
   "source": [
    "plt.plot(results['train_losses'], label='train loss')\n",
    "plt.plot(results['val_losses'], label='val loss')\n",
    "plt.title(\"BCE Loss of 2-layer MLP on Hamming weight data using SGD\")\n",
    "plt.xlabel('epoch')\n",
    "plt.ylabel('loss')\n",
    "plt.legend()"
   ]
  },
  {
   "cell_type": "code",
   "execution_count": null,
   "metadata": {},
   "outputs": [
    {
     "data": {
      "image/png": "[encoded data removed]",
      "text/plain": [
       "<Figure size 640x480 with 1 Axes>"
      ]
     },
     "metadata": {},
     "output_type": "display_data"
    }
   ],
   "source": [
    "plt.plot(results['train_accuracies'], label='train acc')\n",
    "plt.plot(results['val_accuracies'], label='val acc')\n",
    "plt.title(\"Accuracy of 2-layer MLP on Hamming dataset using SGD\")\n",
    "plt.ylabel(\"Accuracy (% bits correct)\")\n",
    "plt.xlabel(\"epoch\")\n",
    "plt.legend()\n",
    "plt.show()"
   ]
  },
  {
   "cell_type": "code",
   "execution_count": 12,
   "metadata": {},
   "outputs": [
    {
     "ename": "NameError",
     "evalue": "name 'model' is not defined",
     "output_type": "error",
     "traceback": [
      "\u001b[0;31m---------------------------------------------------------------------------\u001b[0m",
      "\u001b[0;31mNameError\u001b[0m                                 Traceback (most recent call last)",
      "Cell \u001b[0;32mIn[12], line 5\u001b[0m\n\u001b[1;32m      3\u001b[0m th\u001b[38;5;241m.\u001b[39mset_printoptions(sci_mode\u001b[38;5;241m=\u001b[39m\u001b[38;5;28;01mFalse\u001b[39;00m)\n\u001b[1;32m      4\u001b[0m \u001b[38;5;28;01mwith\u001b[39;00m th\u001b[38;5;241m.\u001b[39mno_grad():\n\u001b[0;32m----> 5\u001b[0m     \u001b[38;5;28mprint\u001b[39m(\u001b[43mmodel\u001b[49m(x)\u001b[38;5;241m.\u001b[39mround())\n",
      "\u001b[0;31mNameError\u001b[0m: name 'model' is not defined"
     ]
    }
   ],
   "source": [
    "x = tensor([[0, 0, 1, 1, 1, 1, 1, 1]], device='mps').float()\n",
    "\n",
    "th.set_printoptions(sci_mode=False)\n",
    "with th.no_grad():\n",
    "    print(model(x).round())"
   ]
  }
 ],
 "metadata": {
  "kernelspec": {
   "display_name": ".venv",
   "language": "python",
   "name": "python3"
  },
  "language_info": {
   "codemirror_mode": {
    "name": "ipython",
    "version": 3
   },
   "file_extension": ".py",
   "mimetype": "text/x-python",
   "name": "python",
   "nbconvert_exporter": "python",
   "pygments_lexer": "ipython3",
   "version": "3.12.5"
  }
 },
 "nbformat": 4,
 "nbformat_minor": 2
}
