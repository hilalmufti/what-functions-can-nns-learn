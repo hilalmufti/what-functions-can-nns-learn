{
 "cells": [
  {
   "cell_type": "code",
   "execution_count": 1,
   "metadata": {
    "ExecuteTime": {
     "end_time": "2025-02-18T06:36:32.073214Z",
     "start_time": "2025-02-18T06:36:32.064460Z"
    }
   },
   "outputs": [],
   "source": [
    "%load_ext autoreload\n",
    "%autoreload 2"
   ]
  },
  {
   "cell_type": "code",
   "execution_count": 9,
   "metadata": {
    "ExecuteTime": {
     "end_time": "2025-02-18T06:36:33.428852Z",
     "start_time": "2025-02-18T06:36:32.094251Z"
    }
   },
   "outputs": [],
   "source": [
    "from math import sin\n",
    "from functools import reduce\n",
    "\n",
    "import numpy as np\n",
    "import matplotlib.pyplot as plt\n",
    "import torch\n",
    "import torch.nn as nn\n",
    "from torch.nn import ModuleList as mdl\n",
    "import torch.optim as optim\n",
    "import torch.nn.functional as F\n",
    "import tqdm\n",
    "\n",
    "from wxml.mlp import MLP\n",
    "from wxml.train import train\n",
    "from wxml.evaluate import evaluate\n",
    "from wxml.data import make_loader"
   ]
  },
  {
   "cell_type": "code",
   "execution_count": 11,
   "metadata": {
    "ExecuteTime": {
     "end_time": "2025-02-18T06:36:33.554979Z",
     "start_time": "2025-02-18T06:36:33.501525Z"
    }
   },
   "outputs": [
    {
     "name": "stdout",
     "output_type": "stream",
     "text": [
      "parity: [(np.int64(0), np.int64(0)), (np.int64(6), np.int64(0)), (np.int64(3), np.int64(1)), (np.int64(0), np.int64(0)), (np.int64(5), np.int64(1))]\n",
      "sin: [(np.float32(4.0), np.float32(-0.7568025)), (np.float32(5.0), np.float32(-0.9589243)), (np.float32(3.0), np.float32(0.14112)), (np.float32(4.0), np.float32(-0.7568025)), (np.float32(2.0), np.float32(0.9092974))]\n"
     ]
    }
   ],
   "source": [
    "# functions to test\n",
    "def parity(x):\n",
    "    return x % 2\n",
    "\n",
    "\n",
    "def compose(fs):\n",
    "    def compose2(f, g):\n",
    "        return lambda *a, **kw: f(g(*a, **kw))\n",
    "    return reduce(compose2, fs)\n",
    "\n",
    "\n",
    "# makes two-column dataset, first is data input to function of choice, second gets replaced w/ function output\n",
    "def make_xs(n):    \n",
    "    return np.random.randint(0, 10, (n, 2))\n",
    "\n",
    "\n",
    "# calls function of choice, f\n",
    "def make_data(n, f, dtype=None):\n",
    "    xs = make_xs(n) if dtype is None else make_xs(n).astype(dtype)\n",
    "    xs[:, 1] = f(xs[:, 0])\n",
    "    xs, ys = xs[:, 0], xs[:, 1]\n",
    "    return xs, ys\n",
    "\n",
    "\n",
    "# TODO: add batches\n",
    "def make_data_parity(n):\n",
    "    xs_train, ys_train = make_data(n, parity)\n",
    "    xs_test, ys_test = make_data(n // 10, parity)\n",
    "    return xs_train, ys_train, xs_test, ys_test\n",
    "\n",
    "\n",
    "def make_data_sin(n):\n",
    "    xs_train, ys_train = make_data(n, np.sin, dtype=np.float32)\n",
    "    xs_test, ys_test = make_data(n // 10, np.sin, dtype=np.float32)\n",
    "    return xs_train, ys_train, xs_test, ys_test\n",
    "\n",
    "\n",
    "\n",
    "def euclidean_distance(x, y):\n",
    "    return torch.sqrt(torch.sum((x - y) ** 2))\n",
    "\n",
    "\n",
    "def averager(f):\n",
    "    return lambda x, y: f(x, y) / len(x)\n",
    "\n",
    "\n",
    "n = 1000\n",
    "\n",
    "xs_train_parity, ys_train_parity, xs_test_parity, ys_test_parity = make_data_parity(n)\n",
    "xs_train_sin, ys_train_sin, xs_test_sin, ys_test_sin = make_data_sin(n)\n",
    "\n",
    "\n",
    "print(\"parity:\", list(zip(xs_train_parity[:5], ys_train_parity[:5])))\n",
    "\n",
    "print(\"sin:\", list(zip(xs_train_sin[:5], ys_train_sin[:5])))"
   ]
  },
  {
   "cell_type": "code",
   "execution_count": 12,
   "metadata": {
    "ExecuteTime": {
     "end_time": "2025-02-18T06:36:34.452746Z",
     "start_time": "2025-02-18T06:36:33.808431Z"
    }
   },
   "outputs": [],
   "source": [
    "lr = 1e-3\n",
    "\n",
    "num_layers = 2\n",
    "input_dim = 1\n",
    "output_dim = 1\n",
    "hidden_dim = 10\n",
    "\n",
    "model = MLP(num_layers, input_dim, hidden_dim, output_dim)\n",
    "modek = compose([round, model])\n",
    "opt = optim.SGD(model.parameters(), lr=lr)\n",
    "loader_parity = make_loader(xs_train_parity, ys_train_parity, 32)"
   ]
  },
  {
   "cell_type": "code",
   "execution_count": 13,
   "metadata": {
    "ExecuteTime": {
     "end_time": "2025-02-18T06:38:58.498061Z",
     "start_time": "2025-02-18T06:38:58.463061Z"
    }
   },
   "outputs": [
    {
     "name": "stderr",
     "output_type": "stream",
     "text": [
      "loss: 0.500, acy: 0.000: 100%|██████████| 100/100 [00:07<00:00, 13.02it/s]\n"
     ]
    }
   ],
   "source": [
    "epochs = 100\n",
    "\n",
    "train(model, averager(euclidean_distance), opt, loader_parity, epochs=epochs)"
   ]
  },
  {
   "cell_type": "code",
   "execution_count": 14,
   "metadata": {
    "ExecuteTime": {
     "end_time": "2025-02-18T06:36:34.612669Z",
     "start_time": "2025-02-04T01:25:04.983768Z"
    }
   },
   "outputs": [
    {
     "name": "stdout",
     "output_type": "stream",
     "text": [
      "[8 6 7 1 7] [0 0 1 1 1]\n",
      "tensor([1, 1, 0, 0, 0, 1, 0, 0, 0, 0, 0, 1, 1, 0, 0, 0, 0, 0, 0, 0, 0, 0, 0, 0,\n",
      "        1, 0, 0, 1, 0, 1, 1, 0])\n",
      "tensor([0, 0, 1, 0, 0, 1, 0, 1, 1, 0, 1, 0, 1, 0, 1, 0, 1, 0, 0, 0, 1, 0, 1, 0,\n",
      "        1, 1, 0, 0, 0, 1, 1, 1])\n",
      "tensor([1, 1, 0, 0, 1, 0, 0, 0, 0, 1, 1, 0, 1, 1, 0, 0, 0, 0, 1, 1, 0, 1, 1, 0,\n",
      "        0, 0, 0, 0, 0, 0, 0, 1])\n",
      "tensor([0, 1, 0, 0])\n",
      "Test Loss: 0.125, Test Accuracy: 0.550\n"
     ]
    },
    {
     "data": {
      "text/plain": [
       "(0.12464101552963257, 0.55)"
      ]
     },
     "execution_count": 14,
     "metadata": {},
     "output_type": "execute_result"
    }
   ],
   "source": [
    "def round(x):\n",
    "    if x >= 0.5: x = 1\n",
    "    else: x = 0\n",
    "    return x\n",
    "\n",
    "print(xs_test_parity[:5], ys_test_parity[:5])\n",
    "# Convert test data into DataLoader\n",
    "loader_test_parity = make_loader(xs_test_parity, ys_test_parity, batch_size=32)\n",
    "\n",
    "# Evaluate the model\n",
    "evaluate(model, averager(euclidean_distance), loader_test_parity)\n"
   ]
  }
 ],
 "metadata": {
  "kernelspec": {
   "display_name": ".venv",
   "language": "python",
   "name": "python3"
  },
  "language_info": {
   "codemirror_mode": {
    "name": "ipython",
    "version": 3
   },
   "file_extension": ".py",
   "mimetype": "text/x-python",
   "name": "python",
   "nbconvert_exporter": "python",
   "pygments_lexer": "ipython3",
   "version": "3.12.5"
  }
 },
 "nbformat": 4,
 "nbformat_minor": 2
}
