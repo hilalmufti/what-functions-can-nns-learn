{
 "cells": [
  {
   "cell_type": "code",
   "execution_count": 1,
   "metadata": {},
   "outputs": [],
   "source": [
    "%load_ext autoreload\n",
    "%autoreload 2"
   ]
  },
  {
   "cell_type": "code",
   "execution_count": 48,
   "metadata": {},
   "outputs": [],
   "source": [
    "from math import sin\n",
    "\n",
    "import numpy as np\n",
    "import matplotlib.pyplot as plt\n",
    "import torch\n",
    "import torch.nn as nn\n",
    "import torch.optim as optim\n",
    "import torch.nn.functional as F\n",
    "import tqdm"
   ]
  },
  {
   "cell_type": "code",
   "execution_count": 155,
   "metadata": {},
   "outputs": [
    {
     "name": "stdout",
     "output_type": "stream",
     "text": [
      "[(np.int64(1), np.int64(1)), (np.int64(5), np.int64(1)), (np.int64(4), np.int64(0)), (np.int64(8), np.int64(0)), (np.int64(0), np.int64(0))]\n",
      "[(np.float32(1.0), np.float32(0.841471)), (np.float32(9.0), np.float32(0.41211846)), (np.float32(8.0), np.float32(0.98935825)), (np.float32(5.0), np.float32(-0.9589243)), (np.float32(0.0), np.float32(0.0))]\n"
     ]
    }
   ],
   "source": [
    "# functions to test\n",
    "def parity(x):\n",
    "    return x % 2\n",
    "\n",
    "def mysin(x):\n",
    "    return sin(x)\n",
    "\n",
    "# makes two-column dataset, first is data input to function of choice, second gets replaced w/ function output\n",
    "def make_xs(n):\n",
    "    return np.random.randint(0, 10, (n, 2))\n",
    "\n",
    "# calls function of choice, f\n",
    "def make_data(n, f, dtype=None):\n",
    "    xs = make_xs(n) if dtype is None else make_xs(n).astype(dtype)\n",
    "    xs[:, 1] = f(xs[:, 0])\n",
    "    xs, ys = xs[:, 0], xs[:, 1]\n",
    "    return xs, ys\n",
    "\n",
    "\n",
    "# TODO: add batches\n",
    "def make_data_parity(n):\n",
    "    xs_train, ys_train = make_data(n, parity)\n",
    "    xs_test, ys_test = make_data(n // 10, parity)\n",
    "    return xs_train, ys_train, xs_test, ys_test\n",
    "\n",
    "\n",
    "def make_data_sin(n):\n",
    "    xs_train, ys_train = make_data(n, np.sin, dtype=np.float32)\n",
    "    xs_test, ys_test = make_data(n // 10, np.sin, dtype=np.float32)\n",
    "    return xs_train, ys_train, xs_test, ys_test\n",
    "\n",
    "\n",
    "def make_loader(xs, ys, batch_size):\n",
    "    xs, ys = torch.tensor(xs, dtype=torch.float32, requires_grad=True), torch.tensor(ys, dtype=torch.float32, requires_grad=True)\n",
    "    data = list(zip(xs, ys))\n",
    "    loader = torch.utils.data.DataLoader(data, batch_size=batch_size, shuffle=True)\n",
    "    return loader\n",
    "\n",
    "\n",
    "def euclidean_distance(x, y):\n",
    "    return torch.sqrt(torch.sum((x - y) ** 2))\n",
    "\n",
    "\n",
    "def accuracy(x, y):\n",
    "    acc = torch.sum(x == y) / len(x)\n",
    "    return acc.item()\n",
    "\n",
    "\n",
    "n = 1000\n",
    "\n",
    "xs_train_parity, ys_train_parity, xs_test_parity, ys_test_parity = make_data_parity(n)\n",
    "xs_train_sin, ys_train_sin, xs_test_sin, ys_test_sin = make_data_sin(n)\n",
    "\n",
    "\n",
    "print(list(zip(xs_train_parity[:5], ys_train_parity[:5])))\n",
    "\n",
    "print(list(zip(xs_train_sin[:5], ys_train_sin[:5])))"
   ]
  },
  {
   "cell_type": "code",
   "execution_count": 164,
   "metadata": {},
   "outputs": [],
   "source": [
    "class MLP(nn.Module):\n",
    "    def __init__(self, act=F.relu):\n",
    "        super(MLP, self).__init__()\n",
    "        self.fc1 = nn.Linear(1, 10)\n",
    "        self.fc2 = nn.Linear(10, 1)\n",
    "        self.act = act\n",
    "    \n",
    "    def forward(self, x):\n",
    "        if isinstance(x, np.ndarray):\n",
    "            return self.forward(torch.tensor(x, dtype=torch.float32).unsqueeze(1))\n",
    "        \n",
    "        x = x.unsqueeze(1)\n",
    "        \n",
    "        x = self.fc1(x)\n",
    "        x = self.act(x)\n",
    "        x = self.fc2(x)\n",
    "        return x\n",
    "    \n",
    "\n",
    "def train_step(model, loss_fn, opt, x, y):\n",
    "    assert model.training and x.requires_grad and y.requires_grad\n",
    "    opt.zero_grad()\n",
    "    y_pred = model(x)\n",
    "    loss = loss_fn(y_pred, y)\n",
    "    loss.backward()\n",
    "    opt.step()\n",
    "    return y_pred, loss.item()\n",
    "    \n",
    "\n",
    "def train(model, loss_fn, opt, loader, epochs=10):\n",
    "    for epoch in (pbar := tqdm.trange(epochs, desc=\"loss: inf, acc: inf\")):\n",
    "        for x, y in loader:\n",
    "            y_pred, loss = train_step(model, loss_fn, opt, x, y)\n",
    "            acc = accuracy(y_pred, y)\n",
    "            pbar.set_description(f\"loss: {loss:.3f}, acc: {acc:.3f}\")\n",
    "    \n",
    "lr = 1e-3\n",
    "\n",
    "model = MLP(); model.train()\n",
    "opt = optim.SGD(model.parameters(), lr=lr)\n",
    "loader_parity = make_loader(xs_train_parity, ys_train_parity, 32)"
   ]
  },
  {
   "cell_type": "code",
   "execution_count": 150,
   "metadata": {},
   "outputs": [
    {
     "data": {
      "text/plain": [
       "23.124238967895508"
      ]
     },
     "execution_count": 150,
     "metadata": {},
     "output_type": "execute_result"
    }
   ],
   "source": [
    "x, y = next(iter(loader_parity))\n",
    "\n",
    "train_step(model, euclidean_distance, opt, x, y)"
   ]
  },
  {
   "cell_type": "code",
   "execution_count": 167,
   "metadata": {},
   "outputs": [
    {
     "name": "stderr",
     "output_type": "stream",
     "text": [
      "loss: 4.003, acc: 0.000: 100%|██████████| 100/100 [00:09<00:00, 10.79it/s]\n"
     ]
    }
   ],
   "source": [
    "epochs = 100\n",
    "\n",
    "train(model, euclidean_distance, opt, loader_parity, epochs=epochs)"
   ]
  }
 ],
 "metadata": {
  "kernelspec": {
   "display_name": ".venv",
   "language": "python",
   "name": "python3"
  },
  "language_info": {
   "codemirror_mode": {
    "name": "ipython",
    "version": 3
   },
   "file_extension": ".py",
   "mimetype": "text/x-python",
   "name": "python",
   "nbconvert_exporter": "python",
   "pygments_lexer": "ipython3",
   "version": "3.12.5"
  }
 },
 "nbformat": 4,
 "nbformat_minor": 2
}
