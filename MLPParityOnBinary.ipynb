{
 "cells": [
  {
   "cell_type": "code",
   "execution_count": 1,
   "id": "initial_id",
   "metadata": {
    "ExecuteTime": {
     "end_time": "2025-02-10T19:55:56.980694Z",
     "start_time": "2025-02-10T19:55:56.285558Z"
    },
    "collapsed": true
   },
   "outputs": [],
   "source": [
    "import torch\n",
    "import torch.nn as nn\n",
    "import torch.optim as optim\n",
    "import numpy as np\n",
    "from torch.utils.data import DataLoader, TensorDataset"
   ]
  },
  {
   "cell_type": "code",
   "execution_count": 2,
   "id": "af7e4212a1db8ed5",
   "metadata": {
    "ExecuteTime": {
     "end_time": "2025-02-11T00:07:01.961720Z",
     "start_time": "2025-02-11T00:07:01.954492Z"
    }
   },
   "outputs": [],
   "source": [
    "def generate_parity_data(n_samples=1000):\n",
    "    X = np.random.randint(0, 256, size=(n_samples,))  # Random numbers from 0 to 255\n",
    "    X_bin = np.array([[int(b) for b in format(x, '08b')] for x in X])  # 8-bit binary representation\n",
    "    X_last_digit = X_bin[:, -1]  # Extract the last digit\n",
    "    y = X % 2  # 1 if odd, 0 if even\n",
    "\n",
    "    return torch.tensor(X_last_digit, dtype=torch.float32).unsqueeze(1), torch.tensor(y, dtype=torch.long)\n",
    "\n",
    "# Generate training and test\n",
    "X_train, y_train = generate_parity_data(800)\n",
    "X_test, y_test = generate_parity_data(200)\n",
    "\n",
    "# DataLoaders\n",
    "train_loader = DataLoader(TensorDataset(X_train, y_train), batch_size=32, shuffle=True)\n",
    "test_loader = DataLoader(TensorDataset(X_test, y_test), batch_size=32, shuffle=False)"
   ]
  },
  {
   "cell_type": "code",
   "execution_count": 3,
   "id": "f33dd3edd1e5a4e3",
   "metadata": {
    "ExecuteTime": {
     "end_time": "2025-02-11T00:07:03.937291Z",
     "start_time": "2025-02-11T00:07:03.933464Z"
    }
   },
   "outputs": [],
   "source": [
    "class MLP(nn.Module):\n",
    "    def __init__(self):\n",
    "        super().__init__()\n",
    "        self.fc1 = nn.Linear(1, 16)  # Input size = 1 (last digit), hidden layer = 16 neurons\n",
    "        self.fc2 = nn.Linear(16, 1)  # Output = 1 (binary classification)\n",
    "    \n",
    "    def forward(self, x):\n",
    "        x = torch.relu(self.fc1(x))\n",
    "        x = torch.sigmoid(self.fc2(x))  # Sigmoid for binary classification\n",
    "        return x\n"
   ]
  },
  {
   "cell_type": "code",
   "execution_count": 4,
   "id": "91909601c065d819",
   "metadata": {
    "ExecuteTime": {
     "end_time": "2025-02-11T00:07:05.569278Z",
     "start_time": "2025-02-11T00:07:05.448411Z"
    }
   },
   "outputs": [
    {
     "name": "stdout",
     "output_type": "stream",
     "text": [
      "Epoch 1/20, Loss: 0.2761\n",
      "Epoch 2/20, Loss: 0.0931\n",
      "Epoch 3/20, Loss: 0.0356\n",
      "Epoch 4/20, Loss: 0.0187\n",
      "Epoch 5/20, Loss: 0.0118\n",
      "Epoch 6/20, Loss: 0.0083\n",
      "Epoch 7/20, Loss: 0.0061\n",
      "Epoch 8/20, Loss: 0.0048\n",
      "Epoch 9/20, Loss: 0.0038\n",
      "Epoch 10/20, Loss: 0.0031\n",
      "Epoch 11/20, Loss: 0.0026\n",
      "Epoch 12/20, Loss: 0.0022\n",
      "Epoch 13/20, Loss: 0.0019\n",
      "Epoch 14/20, Loss: 0.0017\n",
      "Epoch 15/20, Loss: 0.0015\n",
      "Epoch 16/20, Loss: 0.0013\n",
      "Epoch 17/20, Loss: 0.0011\n",
      "Epoch 18/20, Loss: 0.0010\n",
      "Epoch 19/20, Loss: 0.0009\n",
      "Epoch 20/20, Loss: 0.0008\n"
     ]
    }
   ],
   "source": [
    "model = MLP()\n",
    "loss_fn = nn.BCELoss()  # Binary Cross-Entropy Loss\n",
    "optimizer = optim.Adam(model.parameters(), lr=0.01)\n",
    "\n",
    "# Training loop\n",
    "num_epochs = 20\n",
    "for epoch in range(num_epochs):\n",
    "    for X_batch, y_batch in train_loader:\n",
    "        optimizer.zero_grad()\n",
    "        y_pred = model(X_batch).squeeze()  # Forward pass\n",
    "        loss = loss_fn(y_pred, y_batch.float())  # Compute loss\n",
    "        loss.backward()  # Backpropagation\n",
    "        optimizer.step()  # Update weights\n",
    "    \n",
    "    print(f\"Epoch {epoch+1}/{num_epochs}, Loss: {loss.item():.4f}\")"
   ]
  },
  {
   "cell_type": "code",
   "execution_count": 17,
   "id": "308936aeb8e06e31",
   "metadata": {
    "ExecuteTime": {
     "end_time": "2025-02-11T00:07:07.871077Z",
     "start_time": "2025-02-11T00:07:07.862432Z"
    }
   },
   "outputs": [
    {
     "name": "stdout",
     "output_type": "stream",
     "text": [
      "tensor([[1.],\n",
      "        [1.],\n",
      "        [1.],\n",
      "        [0.],\n",
      "        [1.]]) tensor([1, 1, 1, 0, 1])\n",
      "tensor([[0.],\n",
      "        [0.],\n",
      "        [1.],\n",
      "        [0.],\n",
      "        [0.]]) tensor([0, 0, 1, 0, 0])\n",
      "tensor([[0.],\n",
      "        [1.],\n",
      "        [0.],\n",
      "        [0.],\n",
      "        [0.]]) tensor([0, 1, 0, 0, 0])\n",
      "tensor([[0.],\n",
      "        [0.],\n",
      "        [1.],\n",
      "        [1.],\n",
      "        [1.]]) tensor([0, 0, 1, 1, 1])\n",
      "tensor([[1.],\n",
      "        [1.],\n",
      "        [1.],\n",
      "        [1.],\n",
      "        [0.]]) tensor([1, 1, 1, 1, 0])\n",
      "tensor([[1.],\n",
      "        [1.],\n",
      "        [0.],\n",
      "        [0.],\n",
      "        [1.]]) tensor([1, 1, 0, 0, 1])\n",
      "tensor([[0.],\n",
      "        [0.],\n",
      "        [0.],\n",
      "        [0.],\n",
      "        [1.]]) tensor([0, 0, 0, 0, 1])\n",
      "Test Accuracy: 100.00%\n"
     ]
    }
   ],
   "source": [
    "def evaluate_model(model, loader):\n",
    "    model.eval()\n",
    "    correct = 0\n",
    "    total = 0\n",
    "    with torch.no_grad():\n",
    "        for X_batch, y_batch in loader:\n",
    "            y_pred = model(X_batch).squeeze()\n",
    "            y_pred = (y_pred > 0.5).long()  # Convert probability to 0/1\n",
    "            print(X_batch[:5], y_pred[:5])\n",
    "            correct += (y_pred == y_batch).sum().item()\n",
    "            total += y_batch.size(0)\n",
    "    return correct / total\n",
    "\n",
    "accuracy = evaluate_model(model, test_loader)\n",
    "print(f\"Test Accuracy: {accuracy * 100:.2f}%\")"
   ]
  }
 ],
 "metadata": {
  "kernelspec": {
   "display_name": ".venv",
   "language": "python",
   "name": "python3"
  },
  "language_info": {
   "codemirror_mode": {
    "name": "ipython",
    "version": 3
   },
   "file_extension": ".py",
   "mimetype": "text/x-python",
   "name": "python",
   "nbconvert_exporter": "python",
   "pygments_lexer": "ipython3",
   "version": "3.12.5"
  }
 },
 "nbformat": 4,
 "nbformat_minor": 5
}
