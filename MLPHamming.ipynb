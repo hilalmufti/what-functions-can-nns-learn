{
 "cells": [
  {
   "cell_type": "code",
   "execution_count": 49,
   "metadata": {},
   "outputs": [
    {
     "name": "stdout",
     "output_type": "stream",
     "text": [
      "The autoreload extension is already loaded. To reload it, use:\n",
      "  %reload_ext autoreload\n"
     ]
    }
   ],
   "source": [
    "%load_ext autoreload\n",
    "%autoreload 2\n",
    "\n",
    "from wxml.hamming import *"
   ]
  },
  {
   "cell_type": "code",
   "execution_count": 88,
   "metadata": {},
   "outputs": [
    {
     "data": {
      "text/plain": [
       "[(tensor([0, 0, 1, 1, 1, 0, 1, 0]), tensor([0, 0, 0, 0, 0, 1, 0, 0])),\n",
       " (tensor([0, 0, 1, 1, 0, 0, 0, 1]), tensor([0, 0, 0, 0, 0, 0, 1, 1])),\n",
       " (tensor([0, 0, 0, 0, 0, 1, 0, 0]), tensor([0, 0, 0, 0, 0, 0, 0, 1])),\n",
       " (tensor([0, 0, 1, 1, 0, 1, 1, 0]), tensor([0, 0, 0, 0, 0, 1, 0, 0])),\n",
       " (tensor([0, 0, 0, 0, 1, 0, 0, 0]), tensor([0, 0, 0, 0, 0, 0, 0, 1])),\n",
       " (tensor([0, 0, 0, 0, 0, 0, 1, 0]), tensor([0, 0, 0, 0, 0, 0, 0, 1])),\n",
       " (tensor([0, 0, 0, 1, 0, 0, 1, 1]), tensor([0, 0, 0, 0, 0, 0, 1, 1])),\n",
       " (tensor([0, 0, 1, 1, 1, 1, 0, 0]), tensor([0, 0, 0, 0, 0, 1, 0, 0])),\n",
       " (tensor([0, 0, 0, 0, 1, 1, 0, 1]), tensor([0, 0, 0, 0, 0, 0, 1, 1])),\n",
       " (tensor([0, 0, 0, 0, 0, 0, 0, 0]), tensor([0, 0, 0, 0, 0, 0, 0, 0]))]"
      ]
     },
     "execution_count": 88,
     "metadata": {},
     "output_type": "execute_result"
    }
   ],
   "source": [
    "xs, ys = make_data_hamming(10)\n",
    "\n",
    "list(zip(xs, ys))"
   ]
  },
  {
   "cell_type": "code",
   "execution_count": 48,
   "metadata": {},
   "outputs": [
    {
     "data": {
      "text/plain": [
       "tensor(6)"
      ]
     },
     "execution_count": 48,
     "metadata": {},
     "output_type": "execute_result"
    }
   ],
   "source": [
    "wt(bittensor(123, 8))"
   ]
  },
  {
   "cell_type": "code",
   "execution_count": null,
   "metadata": {},
   "outputs": [],
   "source": []
  }
 ],
 "metadata": {
  "kernelspec": {
   "display_name": ".venv",
   "language": "python",
   "name": "python3"
  },
  "language_info": {
   "codemirror_mode": {
    "name": "ipython",
    "version": 3
   },
   "file_extension": ".py",
   "mimetype": "text/x-python",
   "name": "python",
   "nbconvert_exporter": "python",
   "pygments_lexer": "ipython3",
   "version": "3.12.5"
  }
 },
 "nbformat": 4,
 "nbformat_minor": 2
}
